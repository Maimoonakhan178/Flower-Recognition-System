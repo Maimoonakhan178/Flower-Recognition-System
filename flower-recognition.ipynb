{
 "cells": [
  {
   "cell_type": "markdown",
   "metadata": {},
   "source": [
    "# <center> Flower Recognition Through CNN Keras"
   ]
  },
  {
   "cell_type": "markdown",
   "metadata": {
    "_uuid": "892a9fe20cb70273b84d120b69e8d8cef65c7e80"
   },
   "source": [
    "<a id=\"content1\"></a>\n",
    "# 1. Importing Required Libraries"
   ]
  },
  {
   "cell_type": "code",
   "execution_count": null,
   "metadata": {
    "execution": {
     "iopub.execute_input": "2021-05-30T13:51:56.688175Z",
     "iopub.status.busy": "2021-05-30T13:51:56.687901Z",
     "iopub.status.idle": "2021-05-30T13:51:56.695122Z",
     "shell.execute_reply": "2021-05-30T13:51:56.693119Z",
     "shell.execute_reply.started": "2021-05-30T13:51:56.688116Z"
    }
   },
   "outputs": [],
   "source": [
    "import numpy as np\n",
    "import pandas as pd\n",
    "import os\n",
    "import warnings\n",
    "from sklearn.model_selection import train_test_split, KFold, GridSearchCV\n",
    "from sklearn.metrics import accuracy_score, precision_score, recall_score, confusion_matrix, roc_curve, roc_auc_score\n",
    "from sklearn.preprocessing import LabelEncoder\n",
    "from keras.preprocessing.image import ImageDataGenerator\n",
    "from keras import backend as K\n",
    "from keras.models import Sequential\n",
    "from keras.layers import Dense, Dropout, Flatten, Activation, Conv2D, MaxPooling2D, BatchNormalization\n",
    "from keras.optimizers import Adam, SGD, Adagrad, Adadelta, RMSprop\n",
    "from keras.utils import to_categorical\n",
    "import tensorflow as tf\n",
    "import cv2\n",
    "from tqdm import tqdm\n",
    "from PIL import Image\n",
    "import matplotlib.pyplot as plt\n",
    "import seaborn as sns"
   ]
  },
  {
   "cell_type": "code",
   "execution_count": null,
   "metadata": {
    "execution": {
     "iopub.execute_input": "2021-05-30T13:51:56.714412Z",
     "iopub.status.busy": "2021-05-30T13:51:56.713655Z",
     "iopub.status.idle": "2021-05-30T13:51:57.592445Z",
     "shell.execute_reply": "2021-05-30T13:51:57.591178Z",
     "shell.execute_reply.started": "2021-05-30T13:51:56.714079Z"
    }
   },
   "outputs": [],
   "source": [
    "# Set Random Seeds\n",
    "np.random.seed(42)\n",
    "rn.seed(42)\n",
    "tf.set_random_seed(42)"
   ]
  },
  {
   "cell_type": "code",
   "execution_count": null,
   "metadata": {
    "execution": {
     "iopub.execute_input": "2021-05-30T13:51:57.595772Z",
     "iopub.status.busy": "2021-05-30T13:51:57.595205Z",
     "iopub.status.idle": "2021-05-30T13:51:57.754991Z",
     "shell.execute_reply": "2021-05-30T13:51:57.753854Z",
     "shell.execute_reply.started": "2021-05-30T13:51:57.595686Z"
    }
   },
   "outputs": [],
   "source": [
    "## Define Functions to Extract Training and Validation Sets\n",
    "flower_images = []\n",
    "flower_labels = []\n",
    "IMG_SIZE = 150\n",
    "daisy_dir = '../input/flowers-recognition/flowers/daisy'\n",
    "sunflower_dir = '../input/flowers-recognition/flowers/sunflower'\n",
    "tulip_dir = '../input/flowers-recognition/flowers/tulip'\n",
    "rose_dir = '../input/flowers-recognition/flowers/rose'"
   ]
  },
  {
   "cell_type": "code",
   "execution_count": null,
   "metadata": {
    "execution": {
     "iopub.execute_input": "2021-05-30T13:51:57.764634Z",
     "iopub.status.busy": "2021-05-30T13:51:57.761813Z",
     "iopub.status.idle": "2021-05-30T13:51:58.28724Z",
     "shell.execute_reply": "2021-05-30T13:51:58.285999Z",
     "shell.execute_reply.started": "2021-05-30T13:51:57.764568Z"
    }
   },
   "outputs": [],
   "source": [
    "def assign_label(img, flower_type):\n",
    "    return flower_type"
   ]
  },
  {
   "cell_type": "code",
   "execution_count": null,
   "metadata": {
    "execution": {
     "iopub.execute_input": "2021-05-30T13:51:58.294069Z",
     "iopub.status.busy": "2021-05-30T13:51:58.291312Z",
     "iopub.status.idle": "2021-05-30T13:51:58.30357Z",
     "shell.execute_reply": "2021-05-30T13:51:58.302517Z",
     "shell.execute_reply.started": "2021-05-30T13:51:58.294003Z"
    }
   },
   "outputs": [],
   "source": [
    "def load_training_data(flower_type, DIR):\n",
    "    for img in tqdm(os.listdir(DIR)):\n",
    "        label = assign_label(img, flower_type)\n",
    "        path = os.path.join(DIR, img)\n",
    "        img_data = cv2.imread(path, cv2.IMREAD_COLOR)\n",
    "        img_data = cv2.resize(img_data, (IMG_SIZE, IMG_SIZE))\n",
    "        flower_images.append(np.array(img_data))\n",
    "        flower_labels.append(str(label))"
   ]
  },
  {
   "cell_type": "code",
   "execution_count": null,
   "metadata": {
    "execution": {
     "iopub.execute_input": "2021-05-30T13:51:58.311562Z",
     "iopub.status.busy": "2021-05-30T13:51:58.30804Z",
     "iopub.status.idle": "2021-05-30T13:51:58.320336Z",
     "shell.execute_reply": "2021-05-30T13:51:58.319106Z",
     "shell.execute_reply.started": "2021-05-30T13:51:58.311496Z"
    }
   },
   "outputs": [],
   "source": [
    "load_training_data('Daisy', daisy_dir)\n",
    "print(len(flower_images))\n",
    "load_training_data('Sunflower', sunflower_dir)\n",
    "print(len(flower_images))\n",
    "load_training_data('Tulip', tulip_dir)\n",
    "print(len(flower_images))\n",
    "load_training_data('Rose', rose_dir)\n",
    "print(len(flower_images))\n",
    "print(len(flower_images))\n",
    "print(len(flower_labels))\n",
    "print(set(flower_labels))"
   ]
  },
  {
   "cell_type": "code",
   "execution_count": null,
   "metadata": {
    "_uuid": "743b574dc8902f9376b0293208139192ed5717d1",
    "execution": {
     "iopub.execute_input": "2021-05-30T13:51:58.328566Z",
     "iopub.status.busy": "2021-05-30T13:51:58.324987Z",
     "iopub.status.idle": "2021-05-30T13:51:58.595581Z",
     "shell.execute_reply": "2021-05-30T13:51:58.594515Z",
     "shell.execute_reply.started": "2021-05-30T13:51:58.328501Z"
    },
    "id": "z19bVm7o9zeu",
    "outputId": "e6607658-c349-4b88-b29b-bf08b229daa7"
   },
   "outputs": [],
   "source": [
    "## Visualize Some Random Images\n",
    "fig, ax = plt.subplots(5, 3)\n",
    "fig.set_size_inches(15, 15)\n",
    "for i in range(5):\n",
    "    for j in range(3):\n",
    "        idx = rn.randint(0, len(flower_labels))\n",
    "        ax[i, j].imshow(flower_images[idx])\n",
    "        ax[i, j].set_title('Flower: ' + flower_labels[idx])\n",
    "\n",
    "plt.tight_layout()"
   ]
  },
  {
   "cell_type": "code",
   "execution_count": null,
   "metadata": {
    "_uuid": "54f440d5e3da322372601d59e6224a8fcd89c5f8",
    "execution": {
     "iopub.execute_input": "2021-05-30T13:51:58.608914Z",
     "iopub.status.busy": "2021-05-30T13:51:58.606306Z",
     "iopub.status.idle": "2021-05-30T13:51:58.617795Z",
     "shell.execute_reply": "2021-05-30T13:51:58.616622Z",
     "shell.execute_reply.started": "2021-05-30T13:51:58.608852Z"
    },
    "id": "abZS8dPk9ze1"
   },
   "outputs": [],
   "source": [
    "print(\"Number of Pixels in each image:\", 150 * 150 * 3)"
   ]
  },
  {
   "cell_type": "code",
   "execution_count": null,
   "metadata": {
    "_uuid": "73a92819956d2358999ca2233854712849a746d0",
    "execution": {
     "iopub.execute_input": "2021-05-30T13:51:58.625229Z",
     "iopub.status.busy": "2021-05-30T13:51:58.623994Z",
     "iopub.status.idle": "2021-05-30T13:51:58.634245Z",
     "shell.execute_reply": "2021-05-30T13:51:58.633002Z",
     "shell.execute_reply.started": "2021-05-30T13:51:58.625163Z"
    },
    "id": "2qPgwo1d9ze4"
   },
   "outputs": [],
   "source": [
    "## Label Encoding for Y array & One Hot Encoding\n",
    "label_encoder = LabelEncoder()\n",
    "encoded_labels = label_encoder.fit_transform(flower_labels)\n",
    "one_hot_labels = to_categorical(encoded_labels, 4)\n",
    "print(one_hot_labels.shape)\n",
    "print(type(flower_images))\n",
    "print(len(flower_images))\n",
    "print(flower_images[1].shape)\n",
    "flower_images_arr = np.array(flower_images)"
   ]
  },
  {
   "cell_type": "code",
   "execution_count": null,
   "metadata": {
    "_uuid": "6392aebe4fd42ff52460f249ca442626c0af69b7",
    "execution": {
     "iopub.execute_input": "2021-05-30T13:51:58.638184Z",
     "iopub.status.busy": "2021-05-30T13:51:58.636601Z",
     "iopub.status.idle": "2021-05-30T13:51:58.654102Z",
     "shell.execute_reply": "2021-05-30T13:51:58.652988Z",
     "shell.execute_reply.started": "2021-05-30T13:51:58.638115Z"
    },
    "id": "vlY8PywM9ze7"
   },
   "outputs": [],
   "source": [
    "# Image Standardization [Scale 0-1]\n",
    "flower_images_arr = flower_images_arr / 255"
   ]
  },
  {
   "cell_type": "code",
   "execution_count": null,
   "metadata": {
    "_uuid": "46034734b447b127ce033705f44a01e7806a8990",
    "execution": {
     "iopub.execute_input": "2021-05-30T13:51:58.660617Z",
     "iopub.status.busy": "2021-05-30T13:51:58.658258Z",
     "iopub.status.idle": "2021-05-30T13:52:05.945437Z",
     "shell.execute_reply": "2021-05-30T13:52:05.943195Z",
     "shell.execute_reply.started": "2021-05-30T13:51:58.660551Z"
    },
    "id": "9hn_RjL29ze_",
    "outputId": "40853035-6f1c-4bf4-b2f1-708e7269d2de"
   },
   "outputs": [],
   "source": [
    "## Build the CNN Model\n",
    "flower_model = Sequential()\n",
    "flower_model.add(Conv2D(filters=32, kernel_size=(5, 5), activation='relu', input_shape=(150, 150, 3)))\n",
    "flower_model.add(MaxPooling2D(pool_size=(2, 2)))\n",
    "flower_model.add(Conv2D(filters=64, kernel_size=(3, 3), padding='Same', activation='relu'))\n",
    "flower_model.add(MaxPooling2D(pool_size=(2, 2), strides=(2, 2)))\n",
    "flower_model.add(Conv2D(filters=96, kernel_size=(3, 3), padding='Same', activation='relu'))\n",
    "flower_model.add(MaxPooling2D(pool_size=(2, 2), strides=(2, 2)))\n",
    "flower_model.add(Flatten())\n",
    "flower_model.add(Dense(512, activation='relu'))\n",
    "flower_model.add(Dense(4, activation=\"softmax\"))\n",
    "flower_model.summary()"
   ]
  },
  {
   "cell_type": "code",
   "execution_count": null,
   "metadata": {
    "_uuid": "1909dd2bc123cec910d8214898129ab8b622e62f",
    "execution": {
     "iopub.execute_input": "2021-05-30T13:52:05.946785Z",
     "iopub.status.busy": "2021-05-30T13:52:05.946506Z",
     "iopub.status.idle": "2021-05-30T13:52:12.974606Z",
     "shell.execute_reply": "2021-05-30T13:52:12.973472Z",
     "shell.execute_reply.started": "2021-05-30T13:52:05.946724Z"
    },
    "id": "6XZpRkLK9zfC",
    "outputId": "2a95e409-446f-47e7-8856-686520e5dc05"
   },
   "outputs": [],
   "source": [
    "## Compile the Keras Model\n",
    "flower_model.compile(optimizer=Adam(lr=0.001), loss='categorical_crossentropy', metrics=['accuracy'])"
   ]
  },
  {
   "cell_type": "code",
   "execution_count": null,
   "metadata": {
    "_uuid": "5f65e9627dc53b8cb245bc3babd0ab99a7ad3fd2",
    "execution": {
     "iopub.execute_input": "2021-05-30T13:52:12.977955Z",
     "iopub.status.busy": "2021-05-30T13:52:12.977609Z",
     "iopub.status.idle": "2021-05-30T13:52:22.145534Z",
     "shell.execute_reply": "2021-05-30T13:52:22.144646Z",
     "shell.execute_reply.started": "2021-05-30T13:52:12.977897Z"
    },
    "id": "YvJMmnNx9zfH",
    "outputId": "d0b62619-ed0e-4581-a143-64e48c0bad4e"
   },
   "outputs": [],
   "source": [
    "## Fit on the Training set and make predictions on the Validation set\n",
    "batch_size = 256\n",
    "epochs = 21\n",
    "flower_model.fit(X_train, y_train, batch_size=batch_size, epochs=epochs, validation_split=0.15)\n",
    "flower_model.evaluate(X_test, y_test)"
   ]
  },
  {
   "cell_type": "code",
   "execution_count": null,
   "metadata": {
    "_uuid": "fef985e030d09df0762031cd2ec4b009a1f7711a",
    "id": "KgYj8x-H9zfL",
    "outputId": "0b132777-9fc4-4197-88e3-0facfea80a99"
   },
   "outputs": [],
   "source": [
    "## Evaluate the Model Performance\n",
    "plt.plot(range(len(flower_model.history.history['acc'])), flower_model.history.history['acc'])\n",
    "plt.plot(range(len(flower_model.history.history['loss'])), flower_model.history.history['loss'])\n",
    "plt.title('Model - Accuracy Vs Loss')\n",
    "plt.xlabel('Epochs')\n",
    "plt.legend(['Accuracy', 'Loss'])\n",
    "plt.show()\n",
    "\n",
    "plt.plot(flower_model.history.history['loss'])\n",
    "plt.plot(flower_model.history.history['val_loss'])\n",
    "plt.title('Model Loss')\n",
    "plt.ylabel('Loss')\n",
    "plt.xlabel('Epochs')\n",
    "plt.legend(['Train', 'Validation'])\n",
    "plt.show()\n",
    "\n",
    "plt.plot(flower_model.history.history['acc'])\n",
    "plt.plot(flower_model.history.history['val_acc'])\n",
    "plt.title('Model Accuracy')\n",
    "plt.ylabel('Accuracy')\n",
    "plt.xlabel('Epochs')\n",
    "plt.legend(['Train', 'Validation'])\n",
    "plt.show()"
   ]
  },
  {
   "cell_type": "code",
   "execution_count": null,
   "metadata": {
    "_uuid": "96a7e6070fe5a74624eeb12a86f609480e158cd1",
    "execution": {
     "iopub.execute_input": "2021-05-30T13:52:22.148503Z",
     "iopub.status.busy": "2021-05-30T13:52:22.14811Z",
     "iopub.status.idle": "2021-05-30T13:52:29.297183Z",
     "shell.execute_reply": "2021-05-30T13:52:29.29594Z",
     "shell.execute_reply.started": "2021-05-30T13:52:22.148426Z"
    },
    "id": "3mtQH6Vg9zfQ",
    "outputId": "50f204ba-53ab-49ee-aa75-b2bf62e2bcd2"
   },
   "outputs": [],
   "source": [
    "## Visualize Predictions on the Validation Set\n",
    "predictions = flower_model.predict(X_test)\n",
    "print(\"Predicted Probabilities -\\n\", predictions[:4])\n",
    "predicted_classes = np.argmax(predictions, axis=1)\n",
    "print(\"\\nPredicted Class [Highest Prob] -\", predicted_classes[:4])"
   ]
  },
  {
   "cell_type": "code",
   "execution_count": null,
   "metadata": {
    "execution": {
     "iopub.execute_input": "2021-05-30T13:52:29.299061Z",
     "iopub.status.busy": "2021-05-30T13:52:29.298679Z",
     "iopub.status.idle": "2021-05-30T13:52:29.307649Z",
     "shell.execute_reply": "2021-05-30T13:52:29.305064Z",
     "shell.execute_reply.started": "2021-05-30T13:52:29.298985Z"
    }
   },
   "outputs": [],
   "source": [
    "# Store some properly as well as misclassified indexes\n",
    "i = 0\n",
    "correctly_classified = []\n",
    "misclassified = []\n",
    "\n",
    "for i in range(len(y_test)):\n",
    "    if(np.argmax(y_test[i]) == predicted_classes[i]):\n",
    "        correctly_classified.append(i)\n",
    "    if(len(correctly_classified) == 8):\n",
    "        break\n",
    "\n",
    "i = 0\n",
    "for i in range(len(y_test)):\n",
    "    if(not np.argmax(y_test[i]) == predicted_classes[i]):\n",
    "        misclassified.append(i)\n",
    "    if(len(misclassified) == 8):\n",
    "        break\n",
    "count = 0\n",
    "fig, ax = plt.subplots(4, 2)\n",
    "fig.set_size_inches(15, 15)\n",
    "for i in range(4):\n",
    "    for j in range(2):\n",
    "        ax[i, j].imshow(X_test[correctly_classified[count]])\n",
    "        ax[i, j].set_title(\"Predicted Flower: \" + str(label_encoder.inverse_transform([predicted_classes[correctly_classified[count]]])) +\n",
    "                           \"\\n\" + \"Actual Flower: \" + str(label_encoder.inverse_transform(np.argmax([y_test[correctly_classified[count]]]))))\n",
    "        plt.tight_layout()\n",
    "        count += 1"
   ]
  },
  {
   "cell_type": "code",
   "execution_count": null,
   "metadata": {
    "_uuid": "a27c478fcac8675aadd40f96fd144a805475b681",
    "execution": {
     "iopub.execute_input": "2021-05-30T13:52:29.310142Z",
     "iopub.status.busy": "2021-05-30T13:52:29.309544Z",
     "iopub.status.idle": "2021-05-30T13:52:32.635062Z",
     "shell.execute_reply": "2021-05-30T13:52:32.632676Z",
     "shell.execute_reply.started": "2021-05-30T13:52:29.31006Z"
    },
    "id": "gPolpADLYv9p",
    "outputId": "053ef570-56b3-4907-ea47-36b0312dbfb1"
   },
   "outputs": [],
   "source": [
    "\n",
    "# Display Misclassified Images of Flowers\n",
    "warnings.filterwarnings('always')\n",
    "warnings.filterwarnings('ignore')\n",
    "\n",
    "count = 0\n",
    "fig, ax = plt.subplots(4, 2)\n",
    "fig.set_size_inches(15, 15)\n",
    "for i in range(4):\n",
    "    for j in range(2):\n",
    "        ax[i, j].imshow(X_test[misclassified[count]])\n",
    "        ax[i, j].set_title(\"Predicted Flower: \" + str(label_encoder.inverse_transform([predicted_classes[misclassified[count]]])) +\n",
    "                           \"\\n\" + \"Actual Flower: \" + str(label_encoder.inverse_transform(np.argmax([y_test[misclassified[count]]]))))\n",
    "        plt.tight_layout()\n",
    "        count += 1"
   ]
  }
 ],
 "metadata": {
  "kernelspec": {
   "display_name": "Python 3 (ipykernel)",
   "language": "python",
   "name": "python3"
  },
  "language_info": {
   "codemirror_mode": {
    "name": "ipython",
    "version": 3
   },
   "file_extension": ".py",
   "mimetype": "text/x-python",
   "name": "python",
   "nbconvert_exporter": "python",
   "pygments_lexer": "ipython3",
   "version": "3.12.0"
  }
 },
 "nbformat": 4,
 "nbformat_minor": 4
}
